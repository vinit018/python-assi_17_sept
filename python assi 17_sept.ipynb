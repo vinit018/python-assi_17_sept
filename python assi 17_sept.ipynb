{
 "cells": [
  {
   "cell_type": "code",
   "execution_count": null,
   "id": "417db7a6-7a65-4254-b07a-2f0c82331cdb",
   "metadata": {},
   "outputs": [],
   "source": [
    "#for loop"
   ]
  },
  {
   "cell_type": "code",
   "execution_count": 1,
   "id": "c8a6f449-f292-434a-8de2-daa1b1644ea3",
   "metadata": {},
   "outputs": [
    {
     "name": "stdout",
     "output_type": "stream",
     "text": [
      "1\n",
      "2\n",
      "3\n",
      "4\n",
      "5\n",
      "6\n",
      "7\n",
      "8\n",
      "9\n",
      "10\n"
     ]
    }
   ],
   "source": [
    "for i in range(1, 11):\n",
    "    print(i)\n"
   ]
  },
  {
   "cell_type": "code",
   "execution_count": 2,
   "id": "d84d2eed-b946-4ce3-aba6-c3b28f582311",
   "metadata": {},
   "outputs": [
    {
     "name": "stdout",
     "output_type": "stream",
     "text": [
      "Sum: 5050\n"
     ]
    }
   ],
   "source": [
    "sum_numbers = 0\n",
    "for i in range(1, 101):\n",
    "    sum_numbers += i\n",
    "print(\"Sum:\", sum_numbers)\n"
   ]
  },
  {
   "cell_type": "code",
   "execution_count": 3,
   "id": "91dce412-6f57-4c72-be7c-d2dc606bdbba",
   "metadata": {},
   "outputs": [
    {
     "name": "stdout",
     "output_type": "stream",
     "text": [
      "1\n",
      "2\n",
      "3\n",
      "4\n",
      "5\n"
     ]
    }
   ],
   "source": [
    "my_list = [1, 2, 3, 4, 5]\n",
    "for item in my_list:\n",
    "    print(item)\n"
   ]
  },
  {
   "cell_type": "code",
   "execution_count": 4,
   "id": "b079f357-2dee-4679-9b85-60f15325d765",
   "metadata": {},
   "outputs": [
    {
     "name": "stdout",
     "output_type": "stream",
     "text": [
      "Product: 120\n"
     ]
    }
   ],
   "source": [
    "my_list = [1, 2, 3, 4, 5]\n",
    "product = 1\n",
    "for num in my_list:\n",
    "    product *= num\n",
    "print(\"Product:\", product)\n"
   ]
  },
  {
   "cell_type": "code",
   "execution_count": 5,
   "id": "82e8dc49-6cbd-42b8-bc52-8b382b8ce647",
   "metadata": {},
   "outputs": [
    {
     "name": "stdout",
     "output_type": "stream",
     "text": [
      "2\n",
      "4\n",
      "6\n",
      "8\n",
      "10\n",
      "12\n",
      "14\n",
      "16\n",
      "18\n",
      "20\n"
     ]
    }
   ],
   "source": [
    "for i in range(2, 21, 2):\n",
    "    print(i)\n"
   ]
  },
  {
   "cell_type": "code",
   "execution_count": 6,
   "id": "df308dcc-dc6a-47c1-98d9-c78a89d5cc52",
   "metadata": {},
   "outputs": [
    {
     "name": "stdout",
     "output_type": "stream",
     "text": [
      "Factorial: 120\n"
     ]
    }
   ],
   "source": [
    "num = 5\n",
    "factorial = 1\n",
    "for i in range(1, num + 1):\n",
    "    factorial *= i\n",
    "print(\"Factorial:\", factorial)\n"
   ]
  },
  {
   "cell_type": "code",
   "execution_count": 7,
   "id": "98468da9-f811-417d-9ace-0a41ddc698d5",
   "metadata": {},
   "outputs": [
    {
     "name": "stdout",
     "output_type": "stream",
     "text": [
      "H\n",
      "e\n",
      "l\n",
      "l\n",
      "o\n",
      ",\n",
      " \n",
      "W\n",
      "o\n",
      "r\n",
      "l\n",
      "d\n",
      "!\n"
     ]
    }
   ],
   "source": [
    "my_string = \"Hello, World!\"\n",
    "for char in my_string:\n",
    "    print(char)\n"
   ]
  },
  {
   "cell_type": "code",
   "execution_count": 8,
   "id": "8d2d11b1-d86f-40ec-9667-ee16e977227c",
   "metadata": {},
   "outputs": [
    {
     "name": "stdout",
     "output_type": "stream",
     "text": [
      "Largest number: 20\n"
     ]
    }
   ],
   "source": [
    "my_list = [10, 5, 8, 15, 20]\n",
    "max_num = my_list[0]\n",
    "for num in my_list:\n",
    "    if num > max_num:\n",
    "        max_num = num\n",
    "print(\"Largest number:\", max_num)\n"
   ]
  },
  {
   "cell_type": "code",
   "execution_count": 9,
   "id": "75fae76e-11f6-4b1b-844d-d53a10bbafdb",
   "metadata": {},
   "outputs": [
    {
     "name": "stdout",
     "output_type": "stream",
     "text": [
      "0 1 1 2 3 5 8 13 21 34 "
     ]
    }
   ],
   "source": [
    "limit = 10\n",
    "a, b = 0, 1\n",
    "for _ in range(limit):\n",
    "    print(a, end=\" \")\n",
    "    a, b = b, a + b\n"
   ]
  },
  {
   "cell_type": "code",
   "execution_count": 10,
   "id": "4ab34152-30e3-457c-8b9c-9581290242ed",
   "metadata": {},
   "outputs": [
    {
     "name": "stdout",
     "output_type": "stream",
     "text": [
      "Number of vowels: 6\n"
     ]
    }
   ],
   "source": [
    "my_string = \"Python is awesome\"\n",
    "vowel_count = 0\n",
    "for char in my_string:\n",
    "    if char.lower() in \"aeiou\":\n",
    "        vowel_count += 1\n",
    "print(\"Number of vowels:\", vowel_count)\n"
   ]
  },
  {
   "cell_type": "code",
   "execution_count": 11,
   "id": "23e0eef8-8749-4aed-9c13-858c7a376bdc",
   "metadata": {},
   "outputs": [
    {
     "name": "stdout",
     "output_type": "stream",
     "text": [
      "5 x 1 = 5\n",
      "5 x 2 = 10\n",
      "5 x 3 = 15\n",
      "5 x 4 = 20\n",
      "5 x 5 = 25\n",
      "5 x 6 = 30\n",
      "5 x 7 = 35\n",
      "5 x 8 = 40\n",
      "5 x 9 = 45\n",
      "5 x 10 = 50\n"
     ]
    }
   ],
   "source": [
    "num = 5\n",
    "for i in range(1, 11):\n",
    "    print(f\"{num} x {i} = {num * i}\")\n"
   ]
  },
  {
   "cell_type": "code",
   "execution_count": 12,
   "id": "6deb3fd9-b0f1-4fe9-b482-5e7aa5b1ff72",
   "metadata": {},
   "outputs": [
    {
     "name": "stdout",
     "output_type": "stream",
     "text": [
      "Reversed list: [5, 4, 3, 2, 1]\n"
     ]
    }
   ],
   "source": [
    "my_list = [1, 2, 3, 4, 5]\n",
    "reversed_list = []\n",
    "for i in range(len(my_list) - 1, -1, -1):\n",
    "    reversed_list.append(my_list[i])\n",
    "print(\"Reversed list:\", reversed_list)\n"
   ]
  },
  {
   "cell_type": "code",
   "execution_count": 13,
   "id": "4ec00c92-37b4-41a8-ad26-7c5b6c91fba5",
   "metadata": {},
   "outputs": [
    {
     "name": "stdout",
     "output_type": "stream",
     "text": [
      "Common elements: [3, 4, 5]\n"
     ]
    }
   ],
   "source": [
    "list1 = [1, 2, 3, 4, 5]\n",
    "list2 = [3, 4, 5, 6, 7]\n",
    "common_elements = []\n",
    "for item in list1:\n",
    "    if item in list2:\n",
    "        common_elements.append(item)\n",
    "print(\"Common elements:\", common_elements)\n"
   ]
  },
  {
   "cell_type": "code",
   "execution_count": 14,
   "id": "89f5a8c7-8dcb-413a-873e-29bb04833ad9",
   "metadata": {},
   "outputs": [
    {
     "name": "stdout",
     "output_type": "stream",
     "text": [
      "Key: a, Value: 1\n",
      "Key: b, Value: 2\n",
      "Key: c, Value: 3\n"
     ]
    }
   ],
   "source": [
    "my_dict = {\"a\": 1, \"b\": 2, \"c\": 3}\n",
    "for key, value in my_dict.items():\n",
    "    print(f\"Key: {key}, Value: {value}\")\n"
   ]
  },
  {
   "cell_type": "code",
   "execution_count": 15,
   "id": "a03c08ec-1603-415d-b8eb-b9e230c0d9fe",
   "metadata": {},
   "outputs": [
    {
     "name": "stdout",
     "output_type": "stream",
     "text": [
      "GCD: 12\n"
     ]
    }
   ],
   "source": [
    "def find_gcd(a, b):\n",
    "    while b:\n",
    "        a, b = b, a % b\n",
    "    return a\n",
    "\n",
    "num1 = 24\n",
    "num2 = 36\n",
    "gcd = find_gcd(num1, num2)\n",
    "print(\"GCD:\", gcd)\n"
   ]
  },
  {
   "cell_type": "code",
   "execution_count": 16,
   "id": "2c849980-dd20-4c44-8e4b-c74c35284bec",
   "metadata": {},
   "outputs": [
    {
     "name": "stdout",
     "output_type": "stream",
     "text": [
      "Is Palindrome: True\n"
     ]
    }
   ],
   "source": [
    "my_string = \"level\"\n",
    "is_palindrome = True\n",
    "for i in range(len(my_string) // 2):\n",
    "    if my_string[i] != my_string[-(i + 1)]:\n",
    "        is_palindrome = False\n",
    "        break\n",
    "print(\"Is Palindrome:\", is_palindrome)\n"
   ]
  },
  {
   "cell_type": "code",
   "execution_count": 17,
   "id": "56de7b8e-5327-4100-99fb-04e26787f51c",
   "metadata": {},
   "outputs": [
    {
     "name": "stdout",
     "output_type": "stream",
     "text": [
      "List without duplicates: [1, 2, 3, 4, 5]\n"
     ]
    }
   ],
   "source": [
    "original_list = [1, 2, 2, 3, 4, 4, 5]\n",
    "unique_list = []\n",
    "for num in original_list:\n",
    "    if num not in unique_list:\n",
    "        unique_list.append(num)\n",
    "print(\"List without duplicates:\", unique_list)\n"
   ]
  },
  {
   "cell_type": "code",
   "execution_count": 18,
   "id": "4d3d47d8-61ee-4a44-956a-ed166274a968",
   "metadata": {},
   "outputs": [
    {
     "name": "stdout",
     "output_type": "stream",
     "text": [
      "Number of words: 5\n"
     ]
    }
   ],
   "source": [
    "sentence = \"This is a sample sentence.\"\n",
    "word_count = len(sentence.split())\n",
    "print(\"Number of words:\", word_count)\n"
   ]
  },
  {
   "cell_type": "code",
   "execution_count": 19,
   "id": "803f7f22-33d3-42d6-ac6a-4e04a00fe0c8",
   "metadata": {},
   "outputs": [
    {
     "name": "stdout",
     "output_type": "stream",
     "text": [
      "Sum of odd numbers: 625\n"
     ]
    }
   ],
   "source": [
    "odd_sum = 0\n",
    "for i in range(1, 51, 2):\n",
    "    odd_sum += i\n",
    "print(\"Sum of odd numbers:\", odd_sum)\n"
   ]
  },
  {
   "cell_type": "code",
   "execution_count": 20,
   "id": "47795d26-f59f-4045-9b69-05ab689a4ee9",
   "metadata": {},
   "outputs": [
    {
     "name": "stdout",
     "output_type": "stream",
     "text": [
      "2024 is a leap year.\n"
     ]
    }
   ],
   "source": [
    "def is_leap_year(year):\n",
    "    if (year % 4 == 0 and year % 100 != 0) or (year % 400 == 0):\n",
    "        return True\n",
    "    return False\n",
    "\n",
    "year_to_check = 2024\n",
    "if is_leap_year(year_to_check):\n",
    "    print(f\"{year_to_check} is a leap year.\")\n",
    "else:\n",
    "    print(f\"{year_to_check} is not a leap year.\")\n"
   ]
  },
  {
   "cell_type": "code",
   "execution_count": 21,
   "id": "746ca66e-cc49-4118-862b-1f7da4ad12b7",
   "metadata": {},
   "outputs": [
    {
     "name": "stdout",
     "output_type": "stream",
     "text": [
      "Square root of 25: 5.0\n"
     ]
    }
   ],
   "source": [
    "import math\n",
    "\n",
    "num = 25\n",
    "if num >= 0:\n",
    "    square_root = math.sqrt(num)\n",
    "    print(f\"Square root of {num}: {square_root}\")\n",
    "else:\n",
    "    print(\"Cannot calculate square root for negative numbers.\")\n"
   ]
  },
  {
   "cell_type": "code",
   "execution_count": 22,
   "id": "ba69183e-cc54-4a85-b754-e36c6cdd8073",
   "metadata": {},
   "outputs": [
    {
     "name": "stdout",
     "output_type": "stream",
     "text": [
      "LCM: 36\n"
     ]
    }
   ],
   "source": [
    "def find_lcm(x, y):\n",
    "    lcm = max(x, y)\n",
    "    while True:\n",
    "        if lcm % x == 0 and lcm % y == 0:\n",
    "            return lcm\n",
    "        lcm += 1\n",
    "\n",
    "num1 = 12\n",
    "num2 = 18\n",
    "lcm = find_lcm(num1, num2)\n",
    "print(\"LCM:\", lcm)\n"
   ]
  },
  {
   "cell_type": "code",
   "execution_count": null,
   "id": "e013e818-38bd-4481-9e20-e55127e4ded0",
   "metadata": {},
   "outputs": [],
   "source": [
    "#if else"
   ]
  },
  {
   "cell_type": "code",
   "execution_count": 23,
   "id": "53df8d55-182c-456d-bf9e-a0a7e7345623",
   "metadata": {},
   "outputs": [
    {
     "name": "stdin",
     "output_type": "stream",
     "text": [
      "Enter a number:  5\n"
     ]
    },
    {
     "name": "stdout",
     "output_type": "stream",
     "text": [
      "Positive number\n"
     ]
    }
   ],
   "source": [
    "num = float(input(\"Enter a number: \"))\n",
    "\n",
    "if num > 0:\n",
    "    print(\"Positive number\")\n",
    "elif num < 0:\n",
    "    print(\"Negative number\")\n",
    "else:\n",
    "    print(\"Zero\")\n"
   ]
  },
  {
   "cell_type": "code",
   "execution_count": 25,
   "id": "9072ebc0-f3e3-498d-abc1-b3aa037f84ea",
   "metadata": {},
   "outputs": [
    {
     "name": "stdin",
     "output_type": "stream",
     "text": [
      "Enter a number:  7\n"
     ]
    },
    {
     "name": "stdout",
     "output_type": "stream",
     "text": [
      "Odd number\n"
     ]
    }
   ],
   "source": [
    "num = int(input(\"Enter a number: \"))\n",
    "\n",
    "if num % 2 == 0:\n",
    "    print(\"Even number\")\n",
    "else:\n",
    "    print(\"Odd number\")\n"
   ]
  },
  {
   "cell_type": "code",
   "execution_count": 26,
   "id": "677198b1-eafe-409d-a0f8-a19aacbfe979",
   "metadata": {},
   "outputs": [
    {
     "name": "stdout",
     "output_type": "stream",
     "text": [
      "Both x and y are positive.\n"
     ]
    }
   ],
   "source": [
    "x = 10\n",
    "y = 5\n",
    "\n",
    "if x > 0:\n",
    "    if y > 0:\n",
    "        print(\"Both x and y are positive.\")\n",
    "    else:\n",
    "        print(\"Only x is positive.\")\n",
    "else:\n",
    "    print(\"Both x and y are non-positive.\")\n"
   ]
  },
  {
   "cell_type": "code",
   "execution_count": 27,
   "id": "f1cb5179-5523-44e8-8eaa-07625bc0a483",
   "metadata": {},
   "outputs": [
    {
     "name": "stdin",
     "output_type": "stream",
     "text": [
      "Enter the first number:  4\n",
      "Enter the second number:  7\n",
      "Enter the third number:  5\n"
     ]
    },
    {
     "name": "stdout",
     "output_type": "stream",
     "text": [
      "Largest number: 7.0\n"
     ]
    }
   ],
   "source": [
    "num1 = float(input(\"Enter the first number: \"))\n",
    "num2 = float(input(\"Enter the second number: \"))\n",
    "num3 = float(input(\"Enter the third number: \"))\n",
    "\n",
    "if num1 >= num2 and num1 >= num3:\n",
    "    print(\"Largest number:\", num1)\n",
    "elif num2 >= num1 and num2 >= num3:\n",
    "    print(\"Largest number:\", num2)\n",
    "else:\n",
    "    print(\"Largest number:\", num3)\n"
   ]
  },
  {
   "cell_type": "code",
   "execution_count": 28,
   "id": "8f245d37-39a9-48f8-84c4-f79beef2f429",
   "metadata": {},
   "outputs": [
    {
     "name": "stdin",
     "output_type": "stream",
     "text": [
      "Enter a number:  -5\n"
     ]
    },
    {
     "name": "stdout",
     "output_type": "stream",
     "text": [
      "Absolute value: 5.0\n"
     ]
    }
   ],
   "source": [
    "num = float(input(\"Enter a number: \"))\n",
    "\n",
    "if num >= 0:\n",
    "    print(\"Absolute value:\", num)\n",
    "else:\n",
    "    print(\"Absolute value:\", -num)\n"
   ]
  },
  {
   "cell_type": "code",
   "execution_count": 29,
   "id": "b991f2f9-b03e-4a7e-bbd6-3f792a53a5b8",
   "metadata": {},
   "outputs": [
    {
     "name": "stdin",
     "output_type": "stream",
     "text": [
      "Enter a character:  v\n"
     ]
    },
    {
     "name": "stdout",
     "output_type": "stream",
     "text": [
      "Consonant\n"
     ]
    }
   ],
   "source": [
    "char = input(\"Enter a character: \")\n",
    "\n",
    "if char.lower() in 'aeiou':\n",
    "    print(\"Vowel\")\n",
    "else:\n",
    "    print(\"Consonant\")\n"
   ]
  },
  {
   "cell_type": "code",
   "execution_count": 30,
   "id": "d3136e7a-e512-4f0e-afe2-f66ed6befa2a",
   "metadata": {},
   "outputs": [
    {
     "name": "stdin",
     "output_type": "stream",
     "text": [
      "Enter your age:  22\n"
     ]
    },
    {
     "name": "stdout",
     "output_type": "stream",
     "text": [
      "You are eligible to vote.\n"
     ]
    }
   ],
   "source": [
    "age = int(input(\"Enter your age: \"))\n",
    "\n",
    "if age >= 18:\n",
    "    print(\"You are eligible to vote.\")\n",
    "else:\n",
    "    print(\"You are not eligible to vote yet.\")\n"
   ]
  },
  {
   "cell_type": "code",
   "execution_count": 32,
   "id": "081f0982-1e2e-48ad-bc03-af43877f2dce",
   "metadata": {},
   "outputs": [
    {
     "name": "stdin",
     "output_type": "stream",
     "text": [
      "Enter the purchase amount:  900\n"
     ]
    },
    {
     "name": "stdout",
     "output_type": "stream",
     "text": [
      "No discount applied.\n"
     ]
    }
   ],
   "source": [
    "purchase_amount = float(input(\"Enter the purchase amount: \"))\n",
    "\n",
    "if purchase_amount >= 1000:\n",
    "    discount = 0.1 * purchase_amount\n",
    "    print(\"Discount amount:\", discount)\n",
    "else:\n",
    "    print(\"No discount applied.\")\n"
   ]
  },
  {
   "cell_type": "code",
   "execution_count": 33,
   "id": "6f5d5d38-f3b5-4151-be3d-3d951a54ba61",
   "metadata": {},
   "outputs": [
    {
     "name": "stdin",
     "output_type": "stream",
     "text": [
      "Enter a number:  51\n"
     ]
    },
    {
     "name": "stdout",
     "output_type": "stream",
     "text": [
      "Number is outside the specified range.\n"
     ]
    }
   ],
   "source": [
    "num = int(input(\"Enter a number: \"))\n",
    "\n",
    "if 10 <= num <= 50:\n",
    "    print(\"Number is within the specified range.\")\n",
    "else:\n",
    "    print(\"Number is outside the specified range.\")\n"
   ]
  },
  {
   "cell_type": "code",
   "execution_count": 34,
   "id": "e66cbcb8-d26e-49db-b8bc-908af89d80b8",
   "metadata": {},
   "outputs": [
    {
     "name": "stdin",
     "output_type": "stream",
     "text": [
      "Enter the student's score:  85\n"
     ]
    },
    {
     "name": "stdout",
     "output_type": "stream",
     "text": [
      "Grade: B\n"
     ]
    }
   ],
   "source": [
    "score = float(input(\"Enter the student's score: \"))\n",
    "\n",
    "if 90 <= score <= 100:\n",
    "    grade = 'A'\n",
    "elif 80 <= score < 90:\n",
    "    grade = 'B'\n",
    "elif 70 <= score < 80:\n",
    "    grade = 'C'\n",
    "elif 60 <= score < 70:\n",
    "    grade = 'D'\n",
    "else:\n",
    "    grade = 'F'\n",
    "\n",
    "print(\"Grade:\", grade)\n"
   ]
  },
  {
   "cell_type": "code",
   "execution_count": 35,
   "id": "420d704d-9943-494b-b011-c38211e2e910",
   "metadata": {},
   "outputs": [
    {
     "name": "stdin",
     "output_type": "stream",
     "text": [
      "Enter a string:  vinit\n"
     ]
    },
    {
     "name": "stdout",
     "output_type": "stream",
     "text": [
      "String is not empty.\n"
     ]
    }
   ],
   "source": [
    "my_string = input(\"Enter a string: \")\n",
    "\n",
    "if my_string:\n",
    "    print(\"String is not empty.\")\n",
    "else:\n",
    "    print(\"String is empty.\")\n"
   ]
  },
  {
   "cell_type": "code",
   "execution_count": 37,
   "id": "92c2bcef-32f9-416c-9f50-e4559e6ae297",
   "metadata": {},
   "outputs": [
    {
     "name": "stdin",
     "output_type": "stream",
     "text": [
      "Enter the length of side a:  5\n",
      "Enter the length of side b:  8\n",
      "Enter the length of side c:  5\n"
     ]
    },
    {
     "name": "stdout",
     "output_type": "stream",
     "text": [
      "Isosceles triangle\n"
     ]
    }
   ],
   "source": [
    "a = float(input(\"Enter the length of side a: \"))\n",
    "b = float(input(\"Enter the length of side b: \"))\n",
    "c = float(input(\"Enter the length of side c: \"))\n",
    "\n",
    "if a == b == c:\n",
    "    print(\"Equilateral triangle\")\n",
    "elif a == b or b == c or a == c:\n",
    "    print(\"Isosceles triangle\")\n",
    "else:\n",
    "    print(\"Scalene triangle\")\n"
   ]
  },
  {
   "cell_type": "code",
   "execution_count": 38,
   "id": "d4b381af-a045-49b5-ae95-1fdd5828901d",
   "metadata": {},
   "outputs": [
    {
     "name": "stdin",
     "output_type": "stream",
     "text": [
      "Enter a day number (1-7):  5\n"
     ]
    },
    {
     "name": "stdout",
     "output_type": "stream",
     "text": [
      "Day of the week: Friday\n"
     ]
    }
   ],
   "source": [
    "day_number = int(input(\"Enter a day number (1-7): \"))\n",
    "\n",
    "if 1 <= day_number <= 7:\n",
    "    days = [\"Monday\", \"Tuesday\", \"Wednesday\", \"Thursday\", \"Friday\", \"Saturday\", \"Sunday\"]\n",
    "    print(\"Day of the week:\", days[day_number - 1])\n",
    "else:\n",
    "    print(\"Invalid day number.\")\n"
   ]
  },
  {
   "cell_type": "code",
   "execution_count": 40,
   "id": "16ef4812-3307-45b8-b790-f904f8f03d9f",
   "metadata": {},
   "outputs": [
    {
     "name": "stdin",
     "output_type": "stream",
     "text": [
      "Enter a year:  2016\n"
     ]
    },
    {
     "name": "stdout",
     "output_type": "stream",
     "text": [
      "2016 is a leap year.\n"
     ]
    }
   ],
   "source": [
    "def is_leap_year(year):\n",
    "    if (year % 4 == 0 and year % 100 != 0) or (year % 400 == 0):\n",
    "        return True\n",
    "    return False\n",
    "\n",
    "year_to_check = int(input(\"Enter a year: \"))\n",
    "\n",
    "if is_leap_year(year_to_check):\n",
    "    print(f\"{year_to_check} is a leap year.\")\n",
    "else:\n",
    "    print(f\"{year_to_check} is not a leap year.\")\n"
   ]
  },
  {
   "cell_type": "code",
   "execution_count": 42,
   "id": "2a4512f9-2b4e-4c3d-8bb5-9f50aa3ebe5a",
   "metadata": {},
   "outputs": [
    {
     "name": "stdin",
     "output_type": "stream",
     "text": [
      "Enter a number:  4\n"
     ]
    },
    {
     "name": "stdout",
     "output_type": "stream",
     "text": [
      "Number is positive.\n"
     ]
    }
   ],
   "source": [
    "num = int(input(\"Enter a number: \"))\n",
    "\n",
    "assert num >= 0, \"Number must be non-negative\"\n",
    "\n",
    "if num == 0:\n",
    "    print(\"Number is zero.\")\n",
    "else:\n",
    "    print(\"Number is positive.\")\n"
   ]
  },
  {
   "cell_type": "code",
   "execution_count": 43,
   "id": "b9529988-1cae-4442-8de7-12d0e95285b4",
   "metadata": {},
   "outputs": [
    {
     "name": "stdin",
     "output_type": "stream",
     "text": [
      "Enter your age:  57\n"
     ]
    },
    {
     "name": "stdout",
     "output_type": "stream",
     "text": [
      "You are not eligible for a senior citizen discount.\n"
     ]
    }
   ],
   "source": [
    "age = int(input(\"Enter your age: \"))\n",
    "\n",
    "if age >= 60:\n",
    "    print(\"You are eligible for a senior citizen discount.\")\n",
    "else:\n",
    "    print(\"You are not eligible for a senior citizen discount.\")\n"
   ]
  },
  {
   "cell_type": "code",
   "execution_count": 44,
   "id": "16c4148e-ce28-494c-99cb-6cabdd8290f6",
   "metadata": {},
   "outputs": [
    {
     "name": "stdin",
     "output_type": "stream",
     "text": [
      "Enter a character:  V\n"
     ]
    },
    {
     "name": "stdout",
     "output_type": "stream",
     "text": [
      "Uppercase letter\n"
     ]
    }
   ],
   "source": [
    "char = input(\"Enter a character: \")\n",
    "\n",
    "if char.isalpha():\n",
    "    if char.islower():\n",
    "        print(\"Lowercase letter\")\n",
    "    else:\n",
    "        print(\"Uppercase letter\")\n",
    "else:\n",
    "    print(\"Not a letter\")\n"
   ]
  },
  {
   "cell_type": "code",
   "execution_count": 45,
   "id": "3390b053-1e8c-4ded-8bd8-da30a0b5f6e0",
   "metadata": {},
   "outputs": [
    {
     "name": "stdin",
     "output_type": "stream",
     "text": [
      "Enter the coefficient a:  2\n",
      "Enter the coefficient b:  4\n",
      "Enter the coefficient c:  6\n"
     ]
    },
    {
     "name": "stdout",
     "output_type": "stream",
     "text": [
      "Roots are complex: -1.0 + 1.4142135623730951i, -1.0 - 1.4142135623730951i\n"
     ]
    }
   ],
   "source": [
    "import math\n",
    "\n",
    "a = float(input(\"Enter the coefficient a: \"))\n",
    "b = float(input(\"Enter the coefficient b: \"))\n",
    "c = float(input(\"Enter the coefficient c: \"))\n",
    "\n",
    "discriminant = b**2 - 4*a*c\n",
    "\n",
    "if discriminant > 0:\n",
    "    root1 = (-b + math.sqrt(discriminant)) / (2*a)\n",
    "    root2 = (-b - math.sqrt(discriminant)) / (2*a)\n",
    "    print(f\"Roots are real and different: {root1}, {root2}\")\n",
    "elif discriminant == 0:\n",
    "    root = -b / (2*a)\n",
    "    print(f\"Roots are real and same: {root}\")\n",
    "else:\n",
    "    real_part = -b / (2*a)\n",
    "    imaginary_part = math.sqrt(abs(discriminant)) / (2*a)\n",
    "    print(f\"Roots are complex: {real_part} + {imaginary_part}i, {real_part} - {imaginary_part}i\")\n"
   ]
  },
  {
   "cell_type": "code",
   "execution_count": 47,
   "id": "0778370f-5d0c-4c2f-9860-23c011beaf47",
   "metadata": {},
   "outputs": [
    {
     "name": "stdin",
     "output_type": "stream",
     "text": [
      "Enter a year:  2000\n"
     ]
    },
    {
     "name": "stdout",
     "output_type": "stream",
     "text": [
      "2000 is a century year.\n"
     ]
    }
   ],
   "source": [
    "year = int(input(\"Enter a year: \"))\n",
    "\n",
    "if year % 100 == 0:\n",
    "    print(f\"{year} is a century year.\")\n",
    "else:\n",
    "    print(f\"{year} is not a century year.\")\n"
   ]
  },
  {
   "cell_type": "code",
   "execution_count": 48,
   "id": "1c638027-5aad-4955-80c5-23c2a674f71b",
   "metadata": {},
   "outputs": [
    {
     "name": "stdin",
     "output_type": "stream",
     "text": [
      "Enter a number:  16\n"
     ]
    },
    {
     "name": "stdout",
     "output_type": "stream",
     "text": [
      "16 is a perfect square.\n"
     ]
    }
   ],
   "source": [
    "num = int(input(\"Enter a number: \"))\n",
    "sqrt_num = int(math.sqrt(num))\n",
    "\n",
    "if sqrt_num**2 == num:\n",
    "    print(f\"{num} is a perfect square.\")\n",
    "else:\n",
    "    print(f\"{num} is not a perfect square.\")\n"
   ]
  },
  {
   "cell_type": "code",
   "execution_count": 49,
   "id": "b6968009-f89d-4ef2-81ee-e15f80770cfa",
   "metadata": {},
   "outputs": [
    {
     "name": "stdout",
     "output_type": "stream",
     "text": [
      "1\n",
      "3\n",
      "5\n",
      "7\n",
      "9\n"
     ]
    }
   ],
   "source": [
    "for i in range(1, 11):\n",
    "    if i % 2 == 0:\n",
    "        continue\n",
    "    print(i)\n"
   ]
  },
  {
   "cell_type": "code",
   "execution_count": 50,
   "id": "3be1138c-0db3-4d35-9d8c-116b366f0c8a",
   "metadata": {},
   "outputs": [
    {
     "name": "stdout",
     "output_type": "stream",
     "text": [
      "1\n",
      "2\n",
      "3\n",
      "4\n"
     ]
    }
   ],
   "source": [
    "for i in range(1, 11):\n",
    "    if i == 5:\n",
    "        break\n",
    "    print(i)\n"
   ]
  },
  {
   "cell_type": "code",
   "execution_count": 51,
   "id": "86764e35-f824-4955-8ea5-4de36bee9107",
   "metadata": {},
   "outputs": [
    {
     "name": "stdin",
     "output_type": "stream",
     "text": [
      "Enter your weight in kilograms:  22\n",
      "Enter your height in meters:  6\n"
     ]
    },
    {
     "name": "stdout",
     "output_type": "stream",
     "text": [
      "Your BMI is 0.61, and you are categorized as Underweight.\n"
     ]
    }
   ],
   "source": [
    "weight = float(input(\"Enter your weight in kilograms: \"))\n",
    "height = float(input(\"Enter your height in meters: \"))\n",
    "\n",
    "bmi = weight / (height ** 2)\n",
    "\n",
    "if bmi < 18.5:\n",
    "    category = \"Underweight\"\n",
    "elif 18.5 <= bmi < 25:\n",
    "    category = \"Normal weight\"\n",
    "elif 25 <= bmi < 30:\n",
    "    category = \"Overweight\"\n",
    "else:\n",
    "    category = \"Obese\"\n",
    "\n",
    "print(f\"Your BMI is {bmi:.2f}, and you are categorized as {category}.\")\n"
   ]
  },
  {
   "cell_type": "code",
   "execution_count": 52,
   "id": "8c715d81-ca2e-4577-b241-11d1ef4ec01d",
   "metadata": {},
   "outputs": [
    {
     "name": "stdout",
     "output_type": "stream",
     "text": [
      "Even numbers: [2, 4, 6, 8, 10]\n"
     ]
    }
   ],
   "source": [
    "numbers = [1, 2, 3, 4, 5, 6, 7, 8, 9, 10]\n",
    "\n",
    "filtered_numbers = filter(lambda x: x % 2 == 0, numbers)\n",
    "\n",
    "print(\"Even numbers:\", list(filtered_numbers))\n"
   ]
  },
  {
   "cell_type": "code",
   "execution_count": 53,
   "id": "3347db2d-07b8-42ef-8d1f-f211ff6483fc",
   "metadata": {},
   "outputs": [
    {
     "name": "stdin",
     "output_type": "stream",
     "text": [
      "Enter a number:  4\n"
     ]
    },
    {
     "name": "stdout",
     "output_type": "stream",
     "text": [
      "4 is not a prime number.\n"
     ]
    }
   ],
   "source": [
    "num = int(input(\"Enter a number: \"))\n",
    "\n",
    "if num > 1:\n",
    "    for i in range(2, int(math.sqrt(num)) + 1):\n",
    "        if num % i == 0:\n",
    "            print(f\"{num} is not a prime number.\")\n",
    "            break\n",
    "    else:\n",
    "        print(f\"{num} is a prime number.\")\n",
    "else:\n",
    "    print(f\"{num} is not a prime number.\")\n"
   ]
  },
  {
   "cell_type": "code",
   "execution_count": null,
   "id": "6774490c-a04c-425c-ba9f-a214fe3cffb0",
   "metadata": {},
   "outputs": [],
   "source": [
    "#map"
   ]
  },
  {
   "cell_type": "code",
   "execution_count": 54,
   "id": "adee7820-174c-4d47-8256-1939ce82d7b4",
   "metadata": {},
   "outputs": [
    {
     "name": "stdout",
     "output_type": "stream",
     "text": [
      "[1, 4, 9, 16, 25]\n"
     ]
    }
   ],
   "source": [
    "numbers = [1, 2, 3, 4, 5]\n",
    "\n",
    "def square(x):\n",
    "    return x ** 2\n",
    "\n",
    "squared_numbers = map(square, numbers)\n",
    "print(list(squared_numbers))\n"
   ]
  },
  {
   "cell_type": "code",
   "execution_count": 55,
   "id": "203520e6-b9e2-47b8-b815-c532de384167",
   "metadata": {},
   "outputs": [
    {
     "name": "stdout",
     "output_type": "stream",
     "text": [
      "['ALICE', 'BOB', 'CHARLIE']\n"
     ]
    }
   ],
   "source": [
    "names = [\"Alice\", \"Bob\", \"Charlie\"]\n",
    "\n",
    "uppercase_names = map(str.upper, names)\n",
    "print(list(uppercase_names))\n"
   ]
  },
  {
   "cell_type": "code",
   "execution_count": 56,
   "id": "bf4c751a-fbed-4908-9cfa-924d49194f37",
   "metadata": {},
   "outputs": [
    {
     "name": "stdout",
     "output_type": "stream",
     "text": [
      "[5, 6, 4]\n"
     ]
    }
   ],
   "source": [
    "words = [\"apple\", \"banana\", \"kiwi\"]\n",
    "\n",
    "word_lengths = map(len, words)\n",
    "print(list(word_lengths))\n"
   ]
  },
  {
   "cell_type": "code",
   "execution_count": 57,
   "id": "83f03052-b12b-4751-aefe-fb7d6df81f00",
   "metadata": {},
   "outputs": [
    {
     "name": "stdout",
     "output_type": "stream",
     "text": [
      "[5, 7, 9]\n"
     ]
    }
   ],
   "source": [
    "list1 = [1, 2, 3]\n",
    "list2 = [4, 5, 6]\n",
    "\n",
    "def add_lists(x, y):\n",
    "    return x + y\n",
    "\n",
    "result = map(add_lists, list1, list2)\n",
    "print(list(result))\n"
   ]
  },
  {
   "cell_type": "code",
   "execution_count": 58,
   "id": "79620801-f556-4219-814d-b7e2a464494b",
   "metadata": {},
   "outputs": [
    {
     "name": "stdout",
     "output_type": "stream",
     "text": [
      "[32.0, 50.0, 68.0, 86.0]\n"
     ]
    }
   ],
   "source": [
    "celsius_temps = [0, 10, 20, 30]\n",
    "\n",
    "def celsius_to_fahrenheit(celsius):\n",
    "    return (celsius * 9/5) + 32\n",
    "\n",
    "fahrenheit_temps = map(celsius_to_fahrenheit, celsius_temps)\n",
    "print(list(fahrenheit_temps))\n"
   ]
  },
  {
   "cell_type": "code",
   "execution_count": 59,
   "id": "08259573-5eb2-4513-a2c9-b81f0815b7d3",
   "metadata": {},
   "outputs": [
    {
     "name": "stdout",
     "output_type": "stream",
     "text": [
      "[2, 3, 3, 5]\n"
     ]
    }
   ],
   "source": [
    "float_numbers = [1.5, 2.7, 3.2, 4.8]\n",
    "\n",
    "rounded_numbers = map(round, float_numbers)\n",
    "print(list(rounded_numbers))\n"
   ]
  },
  {
   "cell_type": "code",
   "execution_count": null,
   "id": "3b8a0aa6-f1ba-473d-8d7e-e2e6f960b78c",
   "metadata": {},
   "outputs": [],
   "source": [
    "#reduce"
   ]
  },
  {
   "cell_type": "code",
   "execution_count": 60,
   "id": "ecda2865-8fa1-4ce9-8076-e083582685d3",
   "metadata": {},
   "outputs": [
    {
     "name": "stdout",
     "output_type": "stream",
     "text": [
      "15\n"
     ]
    }
   ],
   "source": [
    "from functools import reduce\n",
    "\n",
    "\n",
    "def add(x, y):\n",
    "    return x + y\n",
    "\n",
    "\n",
    "numbers = [1, 2, 3, 4, 5]\n",
    "result = reduce(add, numbers)\n",
    "print(result)\n"
   ]
  },
  {
   "cell_type": "code",
   "execution_count": 61,
   "id": "d756441e-1ca2-4818-87e5-f2c786077fb6",
   "metadata": {},
   "outputs": [
    {
     "name": "stdout",
     "output_type": "stream",
     "text": [
      "120\n"
     ]
    }
   ],
   "source": [
    "from functools import reduce\n",
    "\n",
    "\n",
    "def multiply(x, y):\n",
    "    return x * y\n",
    "\n",
    "\n",
    "numbers = [2, 3, 4, 5]\n",
    "product = reduce(multiply, numbers)\n",
    "print(product)\n"
   ]
  },
  {
   "cell_type": "code",
   "execution_count": 62,
   "id": "53c6794f-376f-4ff9-882f-97b450fd0884",
   "metadata": {},
   "outputs": [
    {
     "name": "stdout",
     "output_type": "stream",
     "text": [
      "11\n"
     ]
    }
   ],
   "source": [
    "from functools import reduce\n",
    "\n",
    "\n",
    "def find_max(x, y):\n",
    "    return max(x, y)\n",
    "\n",
    "\n",
    "numbers = [8, 3, 6, 2, 11]\n",
    "max_element = reduce(find_max, numbers)\n",
    "print(max_element)\n"
   ]
  },
  {
   "cell_type": "code",
   "execution_count": 63,
   "id": "02a464db-9239-47bc-806c-803d52249b4f",
   "metadata": {},
   "outputs": [
    {
     "name": "stdout",
     "output_type": "stream",
     "text": [
      "Hello, world!\n"
     ]
    }
   ],
   "source": [
    "from functools import reduce\n",
    "\n",
    "\n",
    "def concatenate_strings(x, y):\n",
    "    return x + y\n",
    "\n",
    "\n",
    "strings = [\"Hello, \", \"world\", \"!\"]\n",
    "result_string = reduce(concatenate_strings, strings)\n",
    "print(result_string)\n"
   ]
  },
  {
   "cell_type": "code",
   "execution_count": 64,
   "id": "3282abcd-4495-44cd-8330-e4010a44471f",
   "metadata": {},
   "outputs": [
    {
     "name": "stdout",
     "output_type": "stream",
     "text": [
      "120\n"
     ]
    }
   ],
   "source": [
    "from functools import reduce\n",
    "\n",
    "\n",
    "def factorial(x, y):\n",
    "    return x * y\n",
    "\n",
    "\n",
    "num = 5\n",
    "factorial_result = reduce(factorial, range(1, num + 1))\n",
    "print(factorial_result)\n"
   ]
  },
  {
   "cell_type": "code",
   "execution_count": 65,
   "id": "db16833e-ffb7-46c7-bd8d-193137afbc3b",
   "metadata": {},
   "outputs": [
    {
     "name": "stdout",
     "output_type": "stream",
     "text": [
      "6\n"
     ]
    }
   ],
   "source": [
    "from functools import reduce\n",
    "from math import gcd\n",
    "\n",
    "\n",
    "numbers = [12, 18, 24, 36]\n",
    "gcd_result = reduce(gcd, numbers)\n",
    "print(gcd_result)\n"
   ]
  },
  {
   "cell_type": "code",
   "execution_count": 66,
   "id": "cd67db3d-08d7-4036-9bfe-7e828f99dbe0",
   "metadata": {},
   "outputs": [
    {
     "name": "stdout",
     "output_type": "stream",
     "text": [
      "15\n"
     ]
    }
   ],
   "source": [
    "from functools import reduce\n",
    "\n",
    "\n",
    "def sum_digits(x, y):\n",
    "    return int(x) + int(y)\n",
    "\n",
    "\n",
    "number = 12345\n",
    "digit_sum = reduce(sum_digits, str(number))\n",
    "print(digit_sum)\n"
   ]
  },
  {
   "cell_type": "code",
   "execution_count": null,
   "id": "a97b9756-4ed3-4e89-affd-1775320c2dff",
   "metadata": {},
   "outputs": [],
   "source": [
    "#filter"
   ]
  },
  {
   "cell_type": "code",
   "execution_count": 67,
   "id": "c0dcf6d4-5e9a-4746-9dea-80fcc902ba8b",
   "metadata": {},
   "outputs": [
    {
     "name": "stdout",
     "output_type": "stream",
     "text": [
      "[2, 4, 6, 8, 10]\n"
     ]
    }
   ],
   "source": [
    "\n",
    "def is_even(x):\n",
    "    return x % 2 == 0\n",
    "\n",
    "\n",
    "numbers = [1, 2, 3, 4, 5, 6, 7, 8, 9, 10]\n",
    "even_numbers = filter(is_even, numbers)\n",
    "print(list(even_numbers))\n"
   ]
  },
  {
   "cell_type": "code",
   "execution_count": 68,
   "id": "fa840550-e4dc-4bc3-a81f-8634463d0e6e",
   "metadata": {},
   "outputs": [
    {
     "name": "stdout",
     "output_type": "stream",
     "text": [
      "['Alice', 'Anna']\n"
     ]
    }
   ],
   "source": [
    "\n",
    "def starts_with_letter(letter, name):\n",
    "    return name.startswith(letter)\n",
    "\n",
    "\n",
    "names = [\"Alice\", \"Bob\", \"Charlie\", \"David\", \"Anna\"]\n",
    "selected_names = filter(lambda x: starts_with_letter('A', x), names)\n",
    "print(list(selected_names))\n"
   ]
  },
  {
   "cell_type": "code",
   "execution_count": 69,
   "id": "e7bfafb6-1598-4f6a-b28a-9c7dd6324089",
   "metadata": {},
   "outputs": [
    {
     "name": "stdout",
     "output_type": "stream",
     "text": [
      "[2, 3, 5, 7, 11, 13, 17, 19, 23]\n"
     ]
    }
   ],
   "source": [
    "\n",
    "def is_prime(num):\n",
    "    if num < 2:\n",
    "        return False\n",
    "    for i in range(2, int(num**0.5) + 1):\n",
    "        if num % i == 0:\n",
    "            return False\n",
    "    return True\n",
    "\n",
    "\n",
    "numbers = [2, 3, 5, 7, 8, 11, 13, 17, 19, 23]\n",
    "prime_numbers = filter(is_prime, numbers)\n",
    "print(list(prime_numbers))\n"
   ]
  },
  {
   "cell_type": "code",
   "execution_count": 70,
   "id": "487a2897-8e03-47b7-bb77-5b4d122fd605",
   "metadata": {},
   "outputs": [
    {
     "name": "stdout",
     "output_type": "stream",
     "text": [
      "[1, 3, 5, 7]\n"
     ]
    }
   ],
   "source": [
    "\n",
    "values = [1, None, 3, None, 5, None, 7]\n",
    "\n",
    "\n",
    "filtered_values = filter(lambda x: x is not None, values)\n",
    "print(list(filtered_values))\n"
   ]
  },
  {
   "cell_type": "code",
   "execution_count": 71,
   "id": "af236513-66f4-49f5-bd15-c85dbc24d2e4",
   "metadata": {},
   "outputs": [
    {
     "name": "stdout",
     "output_type": "stream",
     "text": [
      "['banana', 'orange']\n"
     ]
    }
   ],
   "source": [
    "\n",
    "def is_long_word(word, length):\n",
    "    return len(word) > length\n",
    "\n",
    "\n",
    "words = [\"apple\", \"banana\", \"kiwi\", \"grape\", \"orange\"]\n",
    "selected_words = filter(lambda x: is_long_word(x, 5), words)\n",
    "print(list(selected_words))\n"
   ]
  },
  {
   "cell_type": "code",
   "execution_count": null,
   "id": "ba8fef42-0ebe-4e75-ab24-976aa44ee063",
   "metadata": {},
   "outputs": [],
   "source": [
    "\n",
    "def greater_than_threshold(x, threshold):\n",
    "    return x > threshold\n",
    "\n",
    "# Use filter to select elements greater than 10 from a list\n",
    "values = [8, 12, 5, 15, 3, 20]\n",
    "selected_values = filter(lambda x: greater_than_threshold(x, 10), values)\n",
    "print(list(selected_values))\n"
   ]
  }
 ],
 "metadata": {
  "kernelspec": {
   "display_name": "Python 3 (ipykernel)",
   "language": "python",
   "name": "python3"
  },
  "language_info": {
   "codemirror_mode": {
    "name": "ipython",
    "version": 3
   },
   "file_extension": ".py",
   "mimetype": "text/x-python",
   "name": "python",
   "nbconvert_exporter": "python",
   "pygments_lexer": "ipython3",
   "version": "3.10.8"
  }
 },
 "nbformat": 4,
 "nbformat_minor": 5
}
